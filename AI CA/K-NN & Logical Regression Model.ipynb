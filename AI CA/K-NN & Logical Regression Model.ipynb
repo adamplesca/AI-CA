{
 "cells": [
  {
   "cell_type": "markdown",
   "id": "283403d8-71d0-4fa3-aeff-92da7be7bf36",
   "metadata": {},
   "source": [
    "## Imports"
   ]
  },
  {
   "cell_type": "code",
   "execution_count": 3,
   "id": "0b56bcbd-d1f8-41e7-b90a-445b4c3884c4",
   "metadata": {},
   "outputs": [],
   "source": [
    "import pandas as pd\n",
    "import numpy as np\n",
    "import seaborn as sns\n",
    "import matplotlib.pyplot as plt\n",
    "from sklearn.model_selection import train_test_split\n",
    "from sklearn.preprocessing import StandardScaler\n",
    "from sklearn.neighbors import KNeighborsClassifier\n",
    "from sklearn.linear_model import LogisticRegression\n",
    "from sklearn.metrics import classification_report, confusion_matrix, accuracy_score\n",
    "from sklearn.model_selection import cross_val_score\n",
    "from imblearn.over_sampling import SMOTE"
   ]
  },
  {
   "cell_type": "markdown",
   "id": "272d94c3-3850-4389-9907-e2448a864001",
   "metadata": {},
   "source": [
    "## Data Processing"
   ]
  },
  {
   "cell_type": "code",
   "execution_count": null,
   "id": "6ef3e8f9-4f03-49e3-af28-0ff87607971a",
   "metadata": {},
   "outputs": [],
   "source": [
    "#load the dataset\n",
    "data = pd.read_csv('healthcare_dataset.csv') #13,000 entries of cleaned data\n",
    "\n",
    "#drop unnecessary columns\n",
    "columns_to_drop = ['Name', 'Date of Admission', 'Discharge Date', 'Doctor', 'Hospital', 'Room Number']\n",
    "data = data.drop(columns=columns_to_drop, axis=1)\n",
    "\n",
    "#encode categorical variables\n",
    "data = pd.get_dummies(data, drop_first=True)\n",
    "\n",
    "#handle missing values (just incase)\n",
    "data.fillna(data.mean(), inplace=True)\n",
    "\n",
    "#splitting predictors and target\n",
    "X = data.drop('Test Results_Normal', axis=1) \n",
    "y = data['Test Results_Normal']"
   ]
  },
  {
   "cell_type": "markdown",
   "id": "7a8c0386-e731-42c5-be59-caaebd103701",
   "metadata": {},
   "source": [
    "## Train-Test Split, Feature Scaling & SMOTE"
   ]
  },
  {
   "cell_type": "code",
   "execution_count": 8,
   "id": "591c7c6b-5bc5-439a-907e-d4c03fba9e6b",
   "metadata": {},
   "outputs": [],
   "source": [
    "#train-test split\n",
    "X_train, X_test, y_train, y_test = train_test_split(X, y, test_size=0.3, random_state=42)\n",
    "\n",
    "#feature scaling\n",
    "scaler = StandardScaler()\n",
    "X_train_scaled = scaler.fit_transform(X_train)\n",
    "X_test_scaled = scaler.transform(X_test)\n",
    "\n",
    "#applied SMOTE to balance dataset (Synthetic Minority Oversampling Technique)\n",
    "smote = SMOTE(random_state=42)\n",
    "X_train_smote, y_train_smote = smote.fit_resample(X_train_scaled, y_train)"
   ]
  },
  {
   "cell_type": "markdown",
   "id": "50a0ac1e-a3e3-4a49-9b0e-419e6650c2fe",
   "metadata": {},
   "source": [
    "## Hyperparameter Tuning for K-NN (Cross-Validation)"
   ]
  },
  {
   "cell_type": "code",
   "execution_count": 10,
   "id": "14d2fe0c-cda2-4b5d-83be-5fee2c7d13db",
   "metadata": {},
   "outputs": [
    {
     "name": "stdout",
     "output_type": "stream",
     "text": [
      "Best K (via cross-validation): 65 with accuracy: 0.68%\n"
     ]
    }
   ],
   "source": [
    "#cross-validation to select best k\n",
    "accuracies = []\n",
    "k_range = range(1, 114)  #best range for data\n",
    "\n",
    "for k in k_range:\n",
    "    knn = KNeighborsClassifier(n_neighbors=k, metric='euclidean', weights='distance')\n",
    "    cv_scores = cross_val_score(knn, X_train_scaled, y_train, cv=5, scoring='accuracy')\n",
    "    accuracies.append(np.mean(cv_scores))\n",
    "\n",
    "best_k = k_range[np.argmax(accuracies)]  #gets best k based off cross-validation\n",
    "best_accuracy = max(accuracies)\n",
    "\n",
    "print(f\"Best K (via cross-validation): {best_k} with accuracy: {best_accuracy:.2f}%\")\n",
    "\n",
    "#training final k-nn model\n",
    "knn = KNeighborsClassifier(n_neighbors=best_k, metric='euclidean', weights='distance')\n",
    "knn.fit(X_train_smote, y_train_smote)\n",
    "y_knn_pred = knn.predict(X_test_scaled)"
   ]
  },
  {
   "cell_type": "markdown",
   "id": "c37727b8-a606-4f8b-8ae0-95de56f18736",
   "metadata": {},
   "source": [
    "## Training & Evaluating K-NN Model"
   ]
  },
  {
   "cell_type": "code",
   "execution_count": 12,
   "id": "c472cc3d-d0a5-4500-a2f8-b191922bcf21",
   "metadata": {},
   "outputs": [
    {
     "name": "stdout",
     "output_type": "stream",
     "text": [
      "Results from K-NN loop\n",
      "Best K: 25\n",
      "Best Metric: euclidean\n",
      "Best Metric: 0.68\n",
      "\n",
      "K-NN Classification Report:\n",
      "              precision    recall  f1-score   support\n",
      "\n",
      "       False       0.93      0.50      0.65      2603\n",
      "        True       0.48      0.93      0.63      1297\n",
      "\n",
      "    accuracy                           0.64      3900\n",
      "   macro avg       0.71      0.72      0.64      3900\n",
      "weighted avg       0.78      0.64      0.65      3900\n",
      "\n",
      "Confusion Matrix:\n",
      "[[1312 1291]\n",
      " [  94 1203]]\n"
     ]
    }
   ],
   "source": [
    "#list of distance values\n",
    "distance_metrics = ['euclidean', 'manhattan', 'minkowski']\n",
    "best_k = 0\n",
    "best_accuracy = 0\n",
    "best_metric = ''\n",
    "\n",
    "for k in range(1, 114):\n",
    "    for metric in distance_metrics: #tests all distance values (from 1 - 113)\n",
    "        knn = KNeighborsClassifier(n_neighbors=k, metric=metric, weights='distance')\n",
    "        knn.fit(X_train_scaled, y_train)\n",
    "        y_pred = knn.predict(X_test_scaled)\n",
    "        accuracy = accuracy_score(y_test, y_pred)\n",
    "        if accuracy > best_accuracy: #stores best result\n",
    "            best_accuracy = accuracy\n",
    "            best_k = k\n",
    "            best_metric = metric\n",
    "\n",
    "#k-nn loop results\n",
    "print(\"Results from K-NN loop\")\n",
    "print(f\"Best K: {best_k}\")\n",
    "print(f\"Best Metric: {best_metric}\")\n",
    "print(f\"Best Metric: {best_accuracy:.2f}\")\n",
    "\n",
    "#k-nn eval\n",
    "print(\"\\nK-NN Classification Report:\")\n",
    "print(classification_report(y_test, y_knn_pred))\n",
    "print(\"Confusion Matrix:\")\n",
    "print(confusion_matrix(y_test, y_knn_pred))"
   ]
  },
  {
   "cell_type": "markdown",
   "id": "7e402a4c-e174-476c-a9bd-d22b11e3352a",
   "metadata": {},
   "source": [
    "## Logistic Regression Training"
   ]
  },
  {
   "cell_type": "code",
   "execution_count": 14,
   "id": "fbeccbaa-44f2-47b4-b92f-182685033e15",
   "metadata": {},
   "outputs": [],
   "source": [
    "log_reg = LogisticRegression(random_state=42, max_iter=1000)\n",
    "log_reg.fit(X_train_smote, y_train_smote)\n",
    "y_log_pred = log_reg.predict(X_test_scaled)"
   ]
  },
  {
   "cell_type": "markdown",
   "id": "c72b96da-3686-4eab-ba38-4f07a743af03",
   "metadata": {},
   "source": [
    "## Accuracy Comparison"
   ]
  },
  {
   "cell_type": "code",
   "execution_count": 16,
   "id": "55df7597-2d18-49c7-8623-7608bb204328",
   "metadata": {},
   "outputs": [
    {
     "data": {
      "image/png": "[encoded data removed]",
      "text/plain": [
       "<Figure size 640x480 with 1 Axes>"
      ]
     },
     "metadata": {},
     "output_type": "display_data"
    }
   ],
   "source": [
    "knn_accuracy = accuracy_score(y_test, y_knn_pred)\n",
    "log_accuracy = accuracy_score(y_test, y_log_pred)\n",
    "\n",
    "models = ['K-NN', 'Logistic Regression']\n",
    "accuracies = [knn_accuracy, log_accuracy]\n",
    "\n",
    "sns.barplot(x=models, y=accuracies)\n",
    "plt.title('Model Accuracy Comparison')\n",
    "plt.ylabel('Accuracy')\n",
    "plt.show()"
   ]
  }
 ],
 "metadata": {
  "kernelspec": {
   "display_name": "Python 3 (ipykernel)",
   "language": "python",
   "name": "python3"
  },
  "language_info": {
   "codemirror_mode": {
    "name": "ipython",
    "version": 3
   },
   "file_extension": ".py",
   "mimetype": "text/x-python",
   "name": "python",
   "nbconvert_exporter": "python",
   "pygments_lexer": "ipython3",
   "version": "3.12.7"
  }
 },
 "nbformat": 4,
 "nbformat_minor": 5
}
